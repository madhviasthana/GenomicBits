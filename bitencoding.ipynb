{
 "cells": [
  {
   "cell_type": "markdown",
   "id": "f236d22c",
   "metadata": {},
   "source": [
    "###  2 Bit encoding of k-mers\n",
    "\n",
    "##### 📌 In this notebook:\n",
    " - Read DNA k-mers from a file\n",
    "- Convert them into compact 2-bit encoded integers\n",
    "\n"
   ]
  },
  {
   "cell_type": "markdown",
   "id": "37285354",
   "metadata": {},
   "source": [
    "Imports"
   ]
  },
  {
   "cell_type": "code",
   "execution_count": 14,
   "id": "54c192ef",
   "metadata": {},
   "outputs": [],
   "source": [
    "import numpy as np"
   ]
  },
  {
   "cell_type": "markdown",
   "id": "87d6adae",
   "metadata": {},
   "source": [
    "file loading"
   ]
  },
  {
   "cell_type": "code",
   "execution_count": 15,
   "id": "4e396670",
   "metadata": {},
   "outputs": [],
   "source": [
    "file_path = \"kmc_1M.txt\"\n"
   ]
  },
  {
   "cell_type": "markdown",
   "id": "98eca6dd",
   "metadata": {},
   "source": [
    "bruteforce appraoch"
   ]
  },
  {
   "cell_type": "code",
   "execution_count": 16,
   "id": "93c0bcf2",
   "metadata": {},
   "outputs": [],
   "source": [
    "def encode_dna(dna_sequence):\n",
    "    encoding_map = {\n",
    "        'A': '00',\n",
    "        'C': '01',\n",
    "        'G': '10',\n",
    "        'T': '11'\n",
    "    }\n",
    "    \n",
    "    binary_string = ''.join(encoding_map[base] for base in dna_sequence)\n",
    "    return binary_string\n"
   ]
  },
  {
   "cell_type": "code",
   "execution_count": 17,
   "id": "b89c434a",
   "metadata": {},
   "outputs": [
    {
     "name": "stdout",
     "output_type": "stream",
     "text": [
      "1111001100011011\n"
     ]
    }
   ],
   "source": [
    "dna = \"TTATACGT\"\n",
    "encoded = encode_dna(dna)\n",
    "print(encoded)  "
   ]
  },
  {
   "cell_type": "markdown",
   "id": "5a400f4f",
   "metadata": {},
   "source": [
    "##### Method 1: Lookup Method for bit encoding using shift operators"
   ]
  },
  {
   "cell_type": "code",
   "execution_count": 18,
   "id": "abb2f04b",
   "metadata": {},
   "outputs": [],
   "source": [
    "base_bits = {'A': 0b00, 'C': 0b01, 'G': 0b10, 'T': 0b11}\n"
   ]
  },
  {
   "cell_type": "code",
   "execution_count": 19,
   "id": "1be76780",
   "metadata": {},
   "outputs": [],
   "source": [
    "def encode_kmer(seq):\n",
    "    encoded = 0\n",
    "    for base in seq:\n",
    "        encoded = (encoded << 2) | base_bits[base]\n",
    "    return encoded\n"
   ]
  },
  {
   "cell_type": "code",
   "execution_count": 20,
   "id": "17cea2a6",
   "metadata": {},
   "outputs": [
    {
     "name": "stdout",
     "output_type": "stream",
     "text": [
      "0001001000000011\n",
      "0001001111110111\n",
      "0001110101001101\n",
      "0010010010001000\n",
      "0010010011110111\n",
      "0010011110100010\n",
      "0010111011111010\n",
      "0011000100010001\n",
      "0011000101001111\n",
      "0011101001101110\n",
      "(1000000,)\n"
     ]
    }
   ],
   "source": [
    "\n",
    "encoded_kmers = []\n",
    "counts = []\n",
    "\n",
    "with open(file_path, 'r') as file:\n",
    "    for line in file:\n",
    "        line = line.strip()\n",
    "        if not line:\n",
    "            continue\n",
    "        seq, count = line.split()\n",
    "        encoded = encode_kmer(seq)\n",
    "        encoded_kmers.append(encoded)\n",
    "        counts.append(int(count))\n",
    "\n",
    "encoded_kmers = np.array(encoded_kmers, dtype=np.uint32)\n",
    "counts = np.array(counts, dtype=np.uint32)\n",
    "\n",
    "for seq, encoded in zip(encoded_kmers[:10], encoded_kmers[:10]):\n",
    "    print(f\"{encoded:016b}\")\n",
    "\n",
    "print(encoded_kmers.shape)"
   ]
  },
  {
   "cell_type": "markdown",
   "id": "36e54cbd",
   "metadata": {},
   "source": [
    "Disadvantage: Slow lookups"
   ]
  },
  {
   "cell_type": "markdown",
   "id": "7b9ce0ab",
   "metadata": {},
   "source": [
    "##### Method 2:Bit Encoding of Kmers using ASCII values and masking them!"
   ]
  },
  {
   "cell_type": "code",
   "execution_count": 23,
   "id": "038babc7",
   "metadata": {},
   "outputs": [],
   "source": [
    "def bit_encoding_mask(seq):\n",
    "    encoded = 0\n",
    "    for char in seq:\n",
    "        base_bits = (ord(char) >> 1) & 0b11\n",
    "        encoded = (encoded << 2) | base_bits \n",
    "\n",
    "    return encoded"
   ]
  },
  {
   "cell_type": "code",
   "execution_count": 38,
   "id": "d0bdc8d0",
   "metadata": {},
   "outputs": [],
   "source": [
    "encoded_data = []\n",
    "\n",
    "with open(file_path, \"r\") as file:\n",
    "    for line in file:\n",
    "        if not line.strip():\n",
    "            continue \n",
    "        kmer, count = line.strip().split()\n",
    "        kmer_length = len(kmer)\n",
    "\n",
    "        encoded_kmer = bit_encoding_mask(kmer)\n",
    "        encoded_data.append([encoded_kmer, int(count)])\n"
   ]
  },
  {
   "cell_type": "code",
   "execution_count": 39,
   "id": "3c2a4c16",
   "metadata": {},
   "outputs": [
    {
     "name": "stdout",
     "output_type": "stream",
     "text": [
      "<class 'numpy.uint32'>\n"
     ]
    }
   ],
   "source": [
    "# Choose dtype\n",
    "if kmer_length <= 8:\n",
    "    dtype = np.uint16\n",
    "elif kmer_length <= 16:\n",
    "    dtype = np.uint32\n",
    "else:\n",
    "    dtype = np.uint64\n",
    "print(dtype)\n"
   ]
  },
  {
   "cell_type": "code",
   "execution_count": 41,
   "id": "ef26dfdf",
   "metadata": {},
   "outputs": [
    {
     "name": "stdout",
     "output_type": "stream",
     "text": [
      "NumPy array shape: (1000000, 2)\n",
      "First 5 rows:\n",
      "Encoded: 00000000000000000001001100000010 → Count: 193\n",
      "Encoded: 00000000000000000001001010100110 → Count: 40\n",
      "Encoded: 00000000000000000001100101001001 → Count: 42\n",
      "Encoded: 00000000000000000011010011001100 → Count: 96\n",
      "Encoded: 00000000000000000011010010100110 → Count: 75\n"
     ]
    }
   ],
   "source": [
    "np_encoded_array = np.array(encoded_data, dtype=dtype)\n",
    "\n",
    "print(\"NumPy array shape:\", np_encoded_array.shape)\n",
    "print(\"First 5 rows:\")\n",
    "for encoded, count in np_encoded_array[:5]:\n",
    "    print(f\"Encoded: {encoded:032b} → Count: {count}\")"
   ]
  }
 ],
 "metadata": {
  "kernelspec": {
   "display_name": "tensorflow",
   "language": "python",
   "name": "python3"
  },
  "language_info": {
   "codemirror_mode": {
    "name": "ipython",
    "version": 3
   },
   "file_extension": ".py",
   "mimetype": "text/x-python",
   "name": "python",
   "nbconvert_exporter": "python",
   "pygments_lexer": "ipython3",
   "version": "3.11.9"
  }
 },
 "nbformat": 4,
 "nbformat_minor": 5
}
